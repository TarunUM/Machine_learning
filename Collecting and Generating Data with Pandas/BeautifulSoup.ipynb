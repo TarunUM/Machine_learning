{
 "cells": [
  {
   "cell_type": "code",
   "execution_count": 20,
   "id": "86d93a56-c80c-4563-b0ab-3589e04becb1",
   "metadata": {},
   "outputs": [],
   "source": [
    "import requests\n",
    "from bs4 import BeautifulSoup"
   ]
  },
  {
   "cell_type": "code",
   "execution_count": 21,
   "id": "62cef1ef-ac6a-45ff-b6e9-694498d2b89e",
   "metadata": {},
   "outputs": [],
   "source": [
    "url = \"https://www.goodreads.com/quotes/tag/{}\""
   ]
  },
  {
   "cell_type": "code",
   "execution_count": 22,
   "id": "296314f0-f088-42ed-82db-23656e199ac7",
   "metadata": {},
   "outputs": [
    {
     "data": {
      "text/plain": [
       "'https://www.goodreads.com/quotes/tag/love'"
      ]
     },
     "execution_count": 22,
     "metadata": {},
     "output_type": "execute_result"
    }
   ],
   "source": [
    "url.format(\"love\")"
   ]
  },
  {
   "cell_type": "code",
   "execution_count": 23,
   "id": "a7c3d174-af12-42fc-950d-1bc1748fb12d",
   "metadata": {},
   "outputs": [],
   "source": [
    "res = requests.get(url)"
   ]
  },
  {
   "cell_type": "code",
   "execution_count": 24,
   "id": "44e6ef6c-4d4f-4c9e-8eca-c80adfa7ee3c",
   "metadata": {},
   "outputs": [],
   "source": [
    "#SCRAPING OF HTML FILE FROM INTERNET"
   ]
  },
  {
   "cell_type": "code",
   "execution_count": 25,
   "id": "631d0fec-fc1e-4dd3-926f-a3ba8ca27d12",
   "metadata": {},
   "outputs": [],
   "source": [
    "soup = BeautifulSoup(res.text)"
   ]
  },
  {
   "cell_type": "code",
   "execution_count": 26,
   "id": "a53c7fd0-5d4e-49b9-b549-35d6a0130b77",
   "metadata": {},
   "outputs": [],
   "source": [
    "links = soup.find_all(\"a\") # links all the anchor links exist in html file"
   ]
  },
  {
   "cell_type": "code",
   "execution_count": 27,
   "id": "841c059a-d80a-4d3f-b10a-f643783c9889",
   "metadata": {},
   "outputs": [],
   "source": [
    "quotes_div = soup.find_all(\"div\", attrs={\"class\" : \"quote\"})"
   ]
  },
  {
   "cell_type": "code",
   "execution_count": 28,
   "id": "5d487d39-c9dc-4d6a-927e-2f19cff60e5d",
   "metadata": {},
   "outputs": [],
   "source": [
    "oneQuoteText = quotes_div[2].find_next(\"div\",attrs={\"class\":\"quoteText\"})"
   ]
  },
  {
   "cell_type": "code",
   "execution_count": 44,
   "id": "5f9e80e1-38af-4f3f-aba1-9ebf2fdda442",
   "metadata": {},
   "outputs": [
    {
     "data": {
      "text/plain": [
       "<div class=\"quoteText\">\n",
       "      “Two things are infinite: the universe and human stupidity; and I'm not sure about the universe.”\n",
       "  <br/>  ―\n",
       "  <span class=\"authorOrTitle\">\n",
       "    Albert Einstein\n",
       "  </span>\n",
       "</div>"
      ]
     },
     "execution_count": 44,
     "metadata": {},
     "output_type": "execute_result"
    }
   ],
   "source": [
    "oneQuoteText"
   ]
  },
  {
   "cell_type": "code",
   "execution_count": 30,
   "id": "79951707-da0c-4844-94c1-f387143d9fcc",
   "metadata": {},
   "outputs": [],
   "source": [
    "striped = oneQuoteText.text.strip()"
   ]
  },
  {
   "cell_type": "code",
   "execution_count": 31,
   "id": "119f3145-a422-4ec6-bd0d-41a27c42690f",
   "metadata": {},
   "outputs": [],
   "source": [
    "striped_line = striped.split(\"\\n\")  # removing / sperating all lines with interpreted by the \"\\n\""
   ]
  },
  {
   "cell_type": "code",
   "execution_count": 32,
   "id": "362e3408-679e-43fa-b329-a6c736dab50c",
   "metadata": {},
   "outputs": [
    {
     "data": {
      "text/plain": [
       "[\"“Two things are infinite: the universe and human stupidity; and I'm not sure about the universe.”\",\n",
       " '    ―',\n",
       " '  ',\n",
       " '    Albert Einstein']"
      ]
     },
     "execution_count": 32,
     "metadata": {},
     "output_type": "execute_result"
    }
   ],
   "source": [
    "striped_line"
   ]
  },
  {
   "cell_type": "code",
   "execution_count": 33,
   "id": "9beddb2f-c3ca-4e02-a0b7-a3882d29715b",
   "metadata": {},
   "outputs": [],
   "source": [
    "quote = striped_line[0][1:-1]   #[1:-1]  removes \"  \" quotes from inital and final string\n",
    "author = striped_line[-1].strip()"
   ]
  },
  {
   "cell_type": "code",
   "execution_count": 34,
   "id": "81544a67-8933-4e9c-b656-8b40a93688f0",
   "metadata": {},
   "outputs": [
    {
     "name": "stdout",
     "output_type": "stream",
     "text": [
      "Two things are infinite: the universe and human stupidity; and I'm not sure about the universe.\n",
      "Albert Einstein\n"
     ]
    }
   ],
   "source": [
    "print(quote)\n",
    "print(author)"
   ]
  },
  {
   "cell_type": "code",
   "execution_count": 52,
   "id": "bedbfde1-f7b0-4bc4-8093-66b26a2bd49e",
   "metadata": {},
   "outputs": [],
   "source": [
    "left_div = oneQuoteText.find_next(\"div\",attrs={\"class\":\"left\"})"
   ]
  },
  {
   "cell_type": "code",
   "execution_count": 56,
   "id": "66e28a50-d7b4-4dc5-8e5b-6b7ecbf65a69",
   "metadata": {},
   "outputs": [],
   "source": [
    "tags = [tag.text for tag in left_div.find_all(\"a\") ]"
   ]
  },
  {
   "cell_type": "code",
   "execution_count": 58,
   "id": "a05c7c88-c121-453e-a58a-1f3fb9882797",
   "metadata": {},
   "outputs": [
    {
     "data": {
      "text/plain": [
       "['attributed-no-source',\n",
       " 'human-nature',\n",
       " 'humor',\n",
       " 'infinity',\n",
       " 'philosophy',\n",
       " 'science',\n",
       " 'stupidity',\n",
       " 'universe']"
      ]
     },
     "execution_count": 58,
     "metadata": {},
     "output_type": "execute_result"
    }
   ],
   "source": [
    "tags"
   ]
  },
  {
   "cell_type": "code",
   "execution_count": null,
   "id": "18677505-506b-4e79-b316-4fa6a3fb9faf",
   "metadata": {},
   "outputs": [],
   "source": []
  }
 ],
 "metadata": {
  "kernelspec": {
   "display_name": "Python 3 (ipykernel)",
   "language": "python",
   "name": "python3"
  },
  "language_info": {
   "codemirror_mode": {
    "name": "ipython",
    "version": 3
   },
   "file_extension": ".py",
   "mimetype": "text/x-python",
   "name": "python",
   "nbconvert_exporter": "python",
   "pygments_lexer": "ipython3",
   "version": "3.9.15"
  }
 },
 "nbformat": 4,
 "nbformat_minor": 5
}
