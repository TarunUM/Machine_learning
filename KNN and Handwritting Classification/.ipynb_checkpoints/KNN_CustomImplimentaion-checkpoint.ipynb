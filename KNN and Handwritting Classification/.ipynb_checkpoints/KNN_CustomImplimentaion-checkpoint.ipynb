{
 "cells": [
  {
   "cell_type": "code",
   "execution_count": 9,
   "id": "5bbc8cd7-8df6-400b-9c7e-0d5c0b6a277f",
   "metadata": {},
   "outputs": [],
   "source": [
    "import numpy as np\n",
    "import matplotlib.pyplot as plt\n",
    "from sklearn.model_selection import train_test_split"
   ]
  },
  {
   "cell_type": "markdown",
   "id": "8b59c516-3a29-4ebc-b6c9-d6c172a40178",
   "metadata": {},
   "source": [
    "### Custom Implementation of K-Nearest-Neighbours(KNN)"
   ]
  },
  {
   "cell_type": "code",
   "execution_count": 54,
   "id": "ee75b54e-2b38-4304-b01a-676bac3d16f9",
   "metadata": {},
   "outputs": [],
   "source": [
    "class CustomKNN:\n",
    "    \n",
    "    #Construcor\n",
    "    def __init__(self, n_neighnhours=5):\n",
    "        self.n_neighnhours = n_neighnhours\n",
    "    \n",
    "    #training function\n",
    "    def fit(self, X , y):\n",
    "        # self._X = X.astype(np.int64)  # Because the X number is too big to calculate or it's a ndarray \n",
    "        \n",
    "        #or we can use Standardisation formula\n",
    "        self._X = (X - X.mean()) / X.std()  # so the number lies b/w 0 to 1\n",
    "        self._y = y\n",
    "        \n",
    "    # predict point\n",
    "    # given a single point, tell me which class it belongs to\n",
    "    def predict_point(self, point):\n",
    "        #storing the distance of given 'point' from each point in training data\n",
    "        list_dist = []\n",
    "        \n",
    "        # these points are from my training data\n",
    "        for x_point, y_point in zip(self._X, self._y):\n",
    "            dist_point = ((point - x_point) ** 2 ).sum()\n",
    "            list_dist.append((dist_point, y_point))\n",
    "            \n",
    "        ## sorting the list according to the distance\n",
    "        sorted_dist = sorted(list_dist)\n",
    "        top_k = sorted_dist[:self.n_neighnhours]\n",
    "        \n",
    "        #taking the count\n",
    "        items, counts = np.unique(np.array(top_k)[:, 1], return_counts=True)\n",
    "        ans = items[np.argmax(counts)]\n",
    "        return ans\n",
    "    \n",
    "    def predict(self, X):\n",
    "        results = []\n",
    "        \n",
    "        for point in X:\n",
    "            results.append(self.predict_point(point))\n",
    "        \n",
    "        return np.array(results, dtype=int)\n",
    "    \n",
    "    #score to measure mmy accuracy\n",
    "    def score(self, X, y):\n",
    "        return sum(self.predict(X) == y) / len(y)"
   ]
  },
  {
   "cell_type": "code",
   "execution_count": 55,
   "id": "844e37a5-4750-4e0f-af63-c9122e9da85d",
   "metadata": {},
   "outputs": [],
   "source": [
    "data= np.load('../datasets/mnist_train_small.npy')"
   ]
  },
  {
   "cell_type": "code",
   "execution_count": 56,
   "id": "3623a3b0-a399-448a-9e0f-abbb1eea42aa",
   "metadata": {},
   "outputs": [
    {
     "data": {
      "text/plain": [
       "(19999, 785)"
      ]
     },
     "execution_count": 56,
     "metadata": {},
     "output_type": "execute_result"
    }
   ],
   "source": [
    "data.shape"
   ]
  },
  {
   "cell_type": "code",
   "execution_count": 57,
   "id": "c54911f0-7aba-4e65-aa85-74280ac41ea1",
   "metadata": {},
   "outputs": [],
   "source": [
    "# 1st column represents the number and rest columns represents the strected data of image\n",
    "X = data[:, 1:]\n",
    "y = data[:, 0]"
   ]
  },
  {
   "cell_type": "code",
   "execution_count": 58,
   "id": "6b47081c-a4a0-47d4-8b4d-1d7831316b7c",
   "metadata": {},
   "outputs": [
    {
     "data": {
      "text/plain": [
       "(array([[0, 0, 0, ..., 0, 0, 0],\n",
       "        [0, 0, 0, ..., 0, 0, 0],\n",
       "        [0, 0, 0, ..., 0, 0, 0],\n",
       "        ...,\n",
       "        [0, 0, 0, ..., 0, 0, 0],\n",
       "        [0, 0, 0, ..., 0, 0, 0],\n",
       "        [0, 0, 0, ..., 0, 0, 0]], dtype=uint8),\n",
       " array([5, 7, 9, ..., 2, 9, 5], dtype=uint8))"
      ]
     },
     "execution_count": 58,
     "metadata": {},
     "output_type": "execute_result"
    }
   ],
   "source": [
    "X, y"
   ]
  },
  {
   "cell_type": "code",
   "execution_count": 59,
   "id": "b2418d1f-1080-432c-b8bf-ab21c90de818",
   "metadata": {},
   "outputs": [],
   "source": [
    "X_train, X_test, y_train, y_test = train_test_split(X, y, test_size=0.30, random_state=42)"
   ]
  },
  {
   "cell_type": "code",
   "execution_count": 60,
   "id": "2eda51bc-b290-42b2-8816-2761c7d1f374",
   "metadata": {},
   "outputs": [
    {
     "data": {
      "text/plain": [
       "((13999, 784), (13999,))"
      ]
     },
     "execution_count": 60,
     "metadata": {},
     "output_type": "execute_result"
    }
   ],
   "source": [
    "X_train.shape, y_train.shape"
   ]
  },
  {
   "cell_type": "code",
   "execution_count": 61,
   "id": "682ae56e-353e-42c1-97c8-6deaf9288c2d",
   "metadata": {},
   "outputs": [
    {
     "data": {
      "text/plain": [
       "((6000, 784), (6000,))"
      ]
     },
     "execution_count": 61,
     "metadata": {},
     "output_type": "execute_result"
    }
   ],
   "source": [
    "X_test.shape, y_test.shape"
   ]
  },
  {
   "cell_type": "code",
   "execution_count": 62,
   "id": "417b13ea-f4d6-4d12-8597-0e48aa3a9c82",
   "metadata": {},
   "outputs": [],
   "source": [
    "cust_model = CustomKNN()"
   ]
  },
  {
   "cell_type": "code",
   "execution_count": 63,
   "id": "067fb10a-2bbe-4819-b1fd-8a91433a4b9b",
   "metadata": {},
   "outputs": [],
   "source": [
    "cust_model.fit(X_train, y_train)"
   ]
  },
  {
   "cell_type": "code",
   "execution_count": 64,
   "id": "5d06cc16-190b-4258-9abf-994853e2964a",
   "metadata": {},
   "outputs": [
    {
     "ename": "AttributeError",
     "evalue": "'CustomKNN' object has no attribute '_X'",
     "output_type": "error",
     "traceback": [
      "\u001b[1;31m---------------------------------------------------------------------------\u001b[0m",
      "\u001b[1;31mAttributeError\u001b[0m                            Traceback (most recent call last)",
      "Cell \u001b[1;32mIn[64], line 1\u001b[0m\n\u001b[1;32m----> 1\u001b[0m \u001b[43mcust_model\u001b[49m\u001b[38;5;241;43m.\u001b[39;49m\u001b[43mpredict\u001b[49m\u001b[43m(\u001b[49m\u001b[43mX_test\u001b[49m\u001b[43m[\u001b[49m\u001b[43m:\u001b[49m\u001b[38;5;241;43m10\u001b[39;49m\u001b[43m]\u001b[49m\u001b[43m)\u001b[49m\n",
      "Cell \u001b[1;32mIn[54], line 39\u001b[0m, in \u001b[0;36mCustomKNN.predict\u001b[1;34m(self, X)\u001b[0m\n\u001b[0;32m     36\u001b[0m results \u001b[38;5;241m=\u001b[39m []\n\u001b[0;32m     38\u001b[0m \u001b[38;5;28;01mfor\u001b[39;00m point \u001b[38;5;129;01min\u001b[39;00m X:\n\u001b[1;32m---> 39\u001b[0m     results\u001b[38;5;241m.\u001b[39mappend(\u001b[38;5;28;43mself\u001b[39;49m\u001b[38;5;241;43m.\u001b[39;49m\u001b[43mpredict_point\u001b[49m\u001b[43m(\u001b[49m\u001b[43mpoint\u001b[49m\u001b[43m)\u001b[49m)\n\u001b[0;32m     41\u001b[0m \u001b[38;5;28;01mreturn\u001b[39;00m np\u001b[38;5;241m.\u001b[39marray(results, dtype\u001b[38;5;241m=\u001b[39m\u001b[38;5;28mint\u001b[39m)\n",
      "Cell \u001b[1;32mIn[54], line 22\u001b[0m, in \u001b[0;36mCustomKNN.predict_point\u001b[1;34m(self, point)\u001b[0m\n\u001b[0;32m     19\u001b[0m list_dist \u001b[38;5;241m=\u001b[39m []\n\u001b[0;32m     21\u001b[0m \u001b[38;5;66;03m# these points are from my training data\u001b[39;00m\n\u001b[1;32m---> 22\u001b[0m \u001b[38;5;28;01mfor\u001b[39;00m x_point, y_point \u001b[38;5;129;01min\u001b[39;00m \u001b[38;5;28mzip\u001b[39m(\u001b[38;5;28;43mself\u001b[39;49m\u001b[38;5;241;43m.\u001b[39;49m\u001b[43m_X\u001b[49m, \u001b[38;5;28mself\u001b[39m\u001b[38;5;241m.\u001b[39m_y):\n\u001b[0;32m     23\u001b[0m     dist_point \u001b[38;5;241m=\u001b[39m ((point \u001b[38;5;241m-\u001b[39m x_point) \u001b[38;5;241m*\u001b[39m\u001b[38;5;241m*\u001b[39m \u001b[38;5;241m2\u001b[39m )\u001b[38;5;241m.\u001b[39msum()\n\u001b[0;32m     24\u001b[0m     list_dist\u001b[38;5;241m.\u001b[39mappend((dist_point, y_point))\n",
      "\u001b[1;31mAttributeError\u001b[0m: 'CustomKNN' object has no attribute '_X'"
     ]
    }
   ],
   "source": [
    "cust_model.predict(X_test[:10])"
   ]
  },
  {
   "cell_type": "code",
   "execution_count": 65,
   "id": "c9f0266e-c3a4-42a4-9b46-4e7506b9dfbf",
   "metadata": {},
   "outputs": [
    {
     "data": {
      "text/plain": [
       "array([7, 7, 0, 9, 4, 5, 4, 6, 9, 2], dtype=uint8)"
      ]
     },
     "execution_count": 65,
     "metadata": {},
     "output_type": "execute_result"
    }
   ],
   "source": [
    "y_test[:10]"
   ]
  },
  {
   "cell_type": "code",
   "execution_count": 53,
   "id": "b90bf89c-e455-4713-a999-03fa3a4d09b2",
   "metadata": {},
   "outputs": [
    {
     "data": {
      "text/plain": [
       "0.9"
      ]
     },
     "execution_count": 53,
     "metadata": {},
     "output_type": "execute_result"
    }
   ],
   "source": [
    "cust_model.score(X_test[:10], y_test[:10])"
   ]
  },
  {
   "cell_type": "code",
   "execution_count": null,
   "id": "27688aa7-b1a1-4b6e-8e19-4857b381d03c",
   "metadata": {},
   "outputs": [],
   "source": []
  }
 ],
 "metadata": {
  "kernelspec": {
   "display_name": "Python 3 (ipykernel)",
   "language": "python",
   "name": "python3"
  },
  "language_info": {
   "codemirror_mode": {
    "name": "ipython",
    "version": 3
   },
   "file_extension": ".py",
   "mimetype": "text/x-python",
   "name": "python",
   "nbconvert_exporter": "python",
   "pygments_lexer": "ipython3",
   "version": "3.9.15"
  }
 },
 "nbformat": 4,
 "nbformat_minor": 5
}
